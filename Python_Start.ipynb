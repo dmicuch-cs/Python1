{
  "nbformat": 4,
  "nbformat_minor": 0,
  "metadata": {
    "colab": {
      "name": "Python Start.ipynb",
      "version": "0.3.2",
      "provenance": [],
      "collapsed_sections": [],
      "include_colab_link": true
    },
    "kernelspec": {
      "name": "python3",
      "display_name": "Python 3"
    }
  },
  "cells": [
    {
      "cell_type": "markdown",
      "metadata": {
        "id": "view-in-github",
        "colab_type": "text"
      },
      "source": [
        "<a href=\"https://colab.research.google.com/github/dmicuch-cs/Python1/blob/master/Python_Start.ipynb\" target=\"_parent\"><img src=\"https://colab.research.google.com/assets/colab-badge.svg\" alt=\"Open In Colab\"/></a>"
      ]
    },
    {
      "metadata": {
        "id": "lX-zOSTkQlhx",
        "colab_type": "code",
        "outputId": "9d1782c7-9c37-428a-9ff2-2be8cb37649d",
        "colab": {
          "base_uri": "https://localhost:8080/",
          "height": 34
        }
      },
      "cell_type": "code",
      "source": [
        "3*2"
      ],
      "execution_count": 0,
      "outputs": [
        {
          "output_type": "execute_result",
          "data": {
            "text/plain": [
              "6"
            ]
          },
          "metadata": {
            "tags": []
          },
          "execution_count": 5
        }
      ]
    },
    {
      "metadata": {
        "id": "SvzyzNvPSBYk",
        "colab_type": "text"
      },
      "cell_type": "markdown",
      "source": [
        "# First test"
      ]
    },
    {
      "metadata": {
        "id": "62ACLe3VSCN8",
        "colab_type": "text"
      },
      "cell_type": "markdown",
      "source": [
        "# Second test"
      ]
    },
    {
      "metadata": {
        "id": "J3PiwVPaRamR",
        "colab_type": "code",
        "colab": {}
      },
      "cell_type": "code",
      "source": [
        "#@title Give me a name {display-mode: \"form\"}\n",
        "\n",
        "# This code will be hidden when the notebook is loaded.\n",
        "# OK\n"
      ],
      "execution_count": 0,
      "outputs": []
    }
  ]
}